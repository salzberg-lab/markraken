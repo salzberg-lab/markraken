{
 "cells": [
  {
   "cell_type": "code",
   "execution_count": null,
   "metadata": {},
   "outputs": [],
   "source": [
    "\"\"\"run length encode initial sequence dataset, storing homopolymer compressed sequence\n",
    "reduces space of possible markers\n",
    "handles most common error type in ONT\"\"\" "
   ]
  },
  {
   "cell_type": "code",
   "execution_count": 1,
   "metadata": {},
   "outputs": [],
   "source": [
    "import os\n",
    "import re\n",
    "import sys\n",
    "import gzip\n",
    "import pickle\n",
    "import multiprocessing\n",
    "from itertools import groupby\n",
    "from Bio import SeqIO"
   ]
  },
  {
   "cell_type": "code",
   "execution_count": 2,
   "metadata": {},
   "outputs": [],
   "source": [
    "# define data paths\n",
    "data_dir = '/ccb/salz4-4/markus/markraken/data'\n",
    "\n",
    "miniseq_dir = os.path.join(data_dir, 'databases/miniSeq+H/')\n",
    "miniseq_db_path = os.path.join(miniseq_dir, 'DB.fa')\n",
    "\n",
    "seq_pickle_path = os.path.join(data_dir, 'DB.pkl')\n",
    "HPC_pickle_path = os.path.join(data_dir, 'DB_HPC.pkl')"
   ]
  },
  {
   "cell_type": "code",
   "execution_count": 3,
   "metadata": {},
   "outputs": [
    {
     "name": "stdout",
     "output_type": "stream",
     "text": [
      "100\n"
     ]
    }
   ],
   "source": [
    "# one liner to read whole db\n",
    "# record_list = list(SeqIO.parse(miniseq_db_path, \"fasta\"))\n",
    "\n",
    "# read only a few\n",
    "n_seqs = 100\n",
    "record_list = []\n",
    "with open(miniseq_db_path) as  handle:\n",
    "    for i, record in enumerate(SeqIO.parse(handle, \"fasta\")):\n",
    "        record_list.append(record)\n",
    "        if i+1 == n_seqs:\n",
    "            break\n",
    "print(len(record_list))"
   ]
  },
  {
   "cell_type": "code",
   "execution_count": 4,
   "metadata": {},
   "outputs": [],
   "source": [
    "seq_list = [str(r.seq) for r in record_list] # extract sequence strings"
   ]
  },
  {
   "cell_type": "code",
   "execution_count": 5,
   "metadata": {},
   "outputs": [],
   "source": [
    "HPC_list = [''.join(i for i, _ in groupby(s)) for s in seq_list] # get only string, throw away run length for now"
   ]
  },
  {
   "cell_type": "code",
   "execution_count": 6,
   "metadata": {},
   "outputs": [],
   "source": [
    "# save seq\n",
    "with open(HPC_pickle_path, 'wb') as f:\n",
    "    pickle.dump(HPC_list, f)\n"
   ]
  },
  {
   "cell_type": "code",
   "execution_count": null,
   "metadata": {},
   "outputs": [],
   "source": [
    "# TODO preserve taxonomy if marker rep actually seems to help"
   ]
  },
  {
   "cell_type": "code",
   "execution_count": null,
   "metadata": {},
   "outputs": [],
   "source": []
  },
  {
   "cell_type": "code",
   "execution_count": null,
   "metadata": {},
   "outputs": [],
   "source": []
  },
  {
   "cell_type": "code",
   "execution_count": null,
   "metadata": {},
   "outputs": [],
   "source": []
  },
  {
   "cell_type": "code",
   "execution_count": null,
   "metadata": {},
   "outputs": [],
   "source": [
    "# Run length encoding\n",
    "# https://www.rosettacode.org/wiki/Run-length_encoding#Python\n",
    "def encode(input_string):\n",
    "    return [(len(list(g)), k) for k,g in groupby(input_string)]\n",
    " \n",
    "def decode(lst):\n",
    "    return ''.join(c * n for n,c in lst)"
   ]
  },
  {
   "cell_type": "code",
   "execution_count": null,
   "metadata": {},
   "outputs": [],
   "source": [
    "foo = {'a': {'b':2, 'c':3}}\n",
    "foo['a'].update({'X':3})\n",
    "print(foo['a'])"
   ]
  }
 ],
 "metadata": {
  "kernelspec": {
   "display_name": "Python 3",
   "language": "python",
   "name": "python3"
  },
  "language_info": {
   "codemirror_mode": {
    "name": "ipython",
    "version": 3
   },
   "file_extension": ".py",
   "mimetype": "text/x-python",
   "name": "python",
   "nbconvert_exporter": "python",
   "pygments_lexer": "ipython3",
   "version": "3.7.3"
  }
 },
 "nbformat": 4,
 "nbformat_minor": 2
}
