{
 "cells": [
  {
   "cell_type": "code",
   "execution_count": null,
   "metadata": {},
   "outputs": [],
   "source": [
    "\"\"\"test marker representation on sample sequences\"\"\""
   ]
  },
  {
   "cell_type": "code",
   "execution_count": 18,
   "metadata": {},
   "outputs": [],
   "source": [
    "import os\n",
    "import pickle\n",
    "import random\n",
    "import multiprocessing\n",
    "import numpy as np\n",
    "from itertools import product"
   ]
  },
  {
   "cell_type": "code",
   "execution_count": 2,
   "metadata": {},
   "outputs": [],
   "source": [
    "# define data paths\n",
    "data_dir = '/ccb/salz4-4/markus/markraken/data'\n",
    "\n",
    "HPC_pickle_path = os.path.join(data_dir, 'DB_HPC.pkl')"
   ]
  },
  {
   "cell_type": "code",
   "execution_count": 3,
   "metadata": {},
   "outputs": [],
   "source": [
    "# load data\n",
    "with open(HPC_pickle_path, 'rb') as f:\n",
    "    HPC_list = pickle.load(f)"
   ]
  },
  {
   "cell_type": "code",
   "execution_count": 63,
   "metadata": {},
   "outputs": [],
   "source": [
    "n_markers = 8000 # number of markers to use for representation of sequence as markers, Shasta default = 8000\n",
    "marker_length = 10 # length of marker sequence, Shasta default = 10\n",
    "\n",
    "# randomly select marker set without replacement, surprisingly complex to vectorize, works fast enough like this\n",
    "random.seed(2019)\n",
    "marker_set = set()\n",
    "while len(marker_set) < n_markers:\n",
    "    marker = [random.sample('ATCG', 1)[0]]\n",
    "    for i in range(marker_length):\n",
    "        nucs = {'A', 'T', 'C', 'G'}\n",
    "        nucs.remove(marker[-1])\n",
    "        marker.append(random.sample(nucs, 1)[0])\n",
    "    marker_set.add(''.join(marker))\n",
    "\n",
    "marker_list = list(marker_set)"
   ]
  },
  {
   "cell_type": "code",
   "execution_count": null,
   "metadata": {},
   "outputs": [],
   "source": []
  },
  {
   "cell_type": "code",
   "execution_count": null,
   "metadata": {},
   "outputs": [],
   "source": [
    "def markerize(HPC_seq):\n",
    "    \n",
    "    return marker_seq"
   ]
  },
  {
   "cell_type": "code",
   "execution_count": null,
   "metadata": {},
   "outputs": [],
   "source": []
  },
  {
   "cell_type": "code",
   "execution_count": null,
   "metadata": {},
   "outputs": [],
   "source": []
  }
 ],
 "metadata": {
  "kernelspec": {
   "display_name": "Python 3",
   "language": "python",
   "name": "python3"
  },
  "language_info": {
   "codemirror_mode": {
    "name": "ipython",
    "version": 3
   },
   "file_extension": ".py",
   "mimetype": "text/x-python",
   "name": "python",
   "nbconvert_exporter": "python",
   "pygments_lexer": "ipython3",
   "version": "3.7.3"
  }
 },
 "nbformat": 4,
 "nbformat_minor": 2
}
