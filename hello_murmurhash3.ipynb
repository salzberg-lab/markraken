{
 "cells": [
  {
   "cell_type": "code",
   "execution_count": 2,
   "metadata": {},
   "outputs": [],
   "source": [
    "import os\n",
    "import mmh3"
   ]
  },
  {
   "cell_type": "code",
   "execution_count": 6,
   "metadata": {},
   "outputs": [
    {
     "name": "stdout",
     "output_type": "stream",
     "text": [
      "21940765\n",
      "b'\\x01\\xe8\\xb6\\x08\\x08\\xd9\\x19\\x92\\x9f2\\x15x\\xd0\\xe4\\x0f\\xef'\n"
     ]
    }
   ],
   "source": [
    "seed = 2019\n",
    "\n",
    "foo = 'ATCG'\n",
    "bar = mmh3.hash(foo, seed)\n",
    "print(bar)\n",
    "\n",
    "foo = 'ATCG'\n",
    "bar = mmh3.hash_bytes(foo, seed)\n",
    "print(bar)"
   ]
  }
 ],
 "metadata": {
  "kernelspec": {
   "display_name": "Python 3",
   "language": "python",
   "name": "python3"
  },
  "language_info": {
   "codemirror_mode": {
    "name": "ipython",
    "version": 3
   },
   "file_extension": ".py",
   "mimetype": "text/x-python",
   "name": "python",
   "nbconvert_exporter": "python",
   "pygments_lexer": "ipython3",
   "version": "3.7.3"
  }
 },
 "nbformat": 4,
 "nbformat_minor": 2
}
