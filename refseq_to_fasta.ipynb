{
 "cells": [
  {
   "cell_type": "code",
   "execution_count": 25,
   "metadata": {},
   "outputs": [],
   "source": [
    "import os\n",
    "import sys\n",
    "import glob\n",
    "import gzip\n",
    "import pandas\n",
    "import pickle\n",
    "from Bio import SeqIO"
   ]
  },
  {
   "cell_type": "code",
   "execution_count": 24,
   "metadata": {},
   "outputs": [],
   "source": [
    "refseq_dir = '/ccb/salz4-4/markus/genome_data/refseq_singlestrain'\n",
    "taxid_map_path = r'/ccb/salz4-4/markus/markraken/data/refseq_singlestrain/nucl_gb.accession2taxid'\n",
    "txid_map_picklepath = r'/ccb/salz4-4/markus/markraken/data/refseq_singlestrain/refseq_accession2taxid.pkl'\n",
    "fasta_combined_path = '/ccb/salz4-4/markus/markraken/data/refseq_singlestrain/refseq.fa'"
   ]
  },
  {
   "cell_type": "code",
   "execution_count": 3,
   "metadata": {},
   "outputs": [],
   "source": [
    "refseq_to_taxid_df = pandas.read_csv(taxid_map_path, delimiter='\\t')"
   ]
  },
  {
   "cell_type": "code",
   "execution_count": 9,
   "metadata": {},
   "outputs": [],
   "source": [
    "# refseq_accession_list = refseq_to_taxid_df['accession'].tolist())\n",
    "foo = refseq_to_taxid_df.loc[refseq_to_taxid_df['accession.version'] == 'NZ_CP032382.1', 'taxid'].iloc[0]"
   ]
  },
  {
   "cell_type": "code",
   "execution_count": 21,
   "metadata": {},
   "outputs": [],
   "source": [
    "refseq_to_taxid = dict(zip(refseq_to_taxid_df['accession.version'],refseq_to_taxid_df['taxid']))"
   ]
  },
  {
   "cell_type": "code",
   "execution_count": 28,
   "metadata": {},
   "outputs": [],
   "source": [
    "with open(txid_map_picklepath, 'wb') as f:\n",
    "    pickle.dump(refseq_to_taxid, f)"
   ]
  },
  {
   "cell_type": "code",
   "execution_count": null,
   "metadata": {},
   "outputs": [],
   "source": []
  },
  {
   "cell_type": "code",
   "execution_count": 30,
   "metadata": {},
   "outputs": [],
   "source": [
    "allfile = []\n",
    "for filename in glob.iglob(refseq_dir + '**/**', recursive=True):\n",
    "    allfile.append(filename)"
   ]
  },
  {
   "cell_type": "code",
   "execution_count": 37,
   "metadata": {},
   "outputs": [],
   "source": [
    "fastafile = [x for x in allfile if x[-6:]=='fna.gz']"
   ]
  },
  {
   "cell_type": "code",
   "execution_count": 49,
   "metadata": {},
   "outputs": [],
   "source": [
    "seq_list = []\n",
    "taxid_list = []\n",
    "n_pass = 0\n",
    "n_fail = 0\n",
    "\n",
    "for path in fastafile:\n",
    "    with gzip.open(path, 'rt') as f:\n",
    "        record_list = list(SeqIO.parse(f, \"fasta\"))\n",
    "        for r in record_list:\n",
    "            try:\n",
    "                taxid = refseq_to_taxid[r.id]\n",
    "                seq = r.seq\n",
    "                taxid_list.append(taxid)\n",
    "                seq_list.append(str(seq))\n",
    "                n_pass += 1\n",
    "            except:\n",
    "                n_fail += 1\n",
    "#         sys.exit()"
   ]
  },
  {
   "cell_type": "code",
   "execution_count": 48,
   "metadata": {},
   "outputs": [
    {
     "name": "stdout",
     "output_type": "stream",
     "text": [
      "GCCCTGACCGTGGCCGGCTCCTTTGCCGATTCAAAAAATGTATATGACATGATGGGGAAAGCACTTGAACCCATGGGGTTGAAGCTCGACTACGCCTACA\n",
      "[2321403]\n"
     ]
    }
   ],
   "source": [
    "print(seq_list[0][:100])\n",
    "print(taxid_list)"
   ]
  },
  {
   "cell_type": "code",
   "execution_count": 51,
   "metadata": {},
   "outputs": [
    {
     "name": "stdout",
     "output_type": "stream",
     "text": [
      "6039 15\n",
      "6039\n",
      "6039\n"
     ]
    }
   ],
   "source": [
    "print(n_pass, n_fail)\n",
    "print(len(seq_list))\n",
    "print(len(taxid_list))"
   ]
  },
  {
   "cell_type": "code",
   "execution_count": 66,
   "metadata": {},
   "outputs": [],
   "source": [
    "# save fasta\n",
    "n_base_per_line = 60\n",
    "with open(fasta_combined_path, 'w') as f:\n",
    "    for i in range(len(seq_list)):\n",
    "        f.write('>foo|bar|' + str(taxid_list[i]) + '\\n')\n",
    "        s = seq_list[i]\n",
    "        seqlines = [s[i:i+n] for i in range(0, len(s), n_base_per_line)]\n",
    "        for l in seqlines:\n",
    "            f.write(l + '\\n')"
   ]
  }
 ],
 "metadata": {
  "kernelspec": {
   "display_name": "Python 3",
   "language": "python",
   "name": "python3"
  },
  "language_info": {
   "codemirror_mode": {
    "name": "ipython",
    "version": 3
   },
   "file_extension": ".py",
   "mimetype": "text/x-python",
   "name": "python",
   "nbconvert_exporter": "python",
   "pygments_lexer": "ipython3",
   "version": "3.7.3"
  }
 },
 "nbformat": 4,
 "nbformat_minor": 2
}
