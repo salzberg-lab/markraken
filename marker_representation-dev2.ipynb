{
 "cells": [
  {
   "cell_type": "code",
   "execution_count": null,
   "metadata": {},
   "outputs": [],
   "source": [
    "\"\"\"test marker representation on sample sequences\"\"\""
   ]
  },
  {
   "cell_type": "code",
   "execution_count": 1,
   "metadata": {},
   "outputs": [],
   "source": [
    "import os\n",
    "import sys\n",
    "import mmh3\n",
    "import pickle\n",
    "import random\n",
    "import multiprocessing as mp\n",
    "import numpy as np\n",
    "import matplotlib.pyplot as plt\n",
    "from itertools import product"
   ]
  },
  {
   "cell_type": "code",
   "execution_count": 2,
   "metadata": {},
   "outputs": [],
   "source": [
    "# define data paths\n",
    "data_dir = '/ccb/salz4-4/markus/markraken/data'\n",
    "\n",
    "seq_pickle_path = os.path.join(data_dir, 'DB.pkl')\n",
    "HPC_pickle_path = os.path.join(data_dir, 'DB_HPC.pkl')\n",
    "hashtable_path = os.path.join(data_dir, 'index.pkl')"
   ]
  },
  {
   "cell_type": "code",
   "execution_count": 3,
   "metadata": {},
   "outputs": [],
   "source": [
    "# load data\n",
    "with open(seq_pickle_path, 'rb') as f:\n",
    "    seq_list = pickle.load(f)\n",
    "\n",
    "with open(HPC_pickle_path, 'rb') as f:\n",
    "    HPC_list = pickle.load(f)"
   ]
  },
  {
   "cell_type": "code",
   "execution_count": 17,
   "metadata": {},
   "outputs": [],
   "source": [
    "n_markers = 16000 # number of markers to use for representation of sequence as markers, Shasta default = 8000\n",
    "marker_length = 10 # length of marker sequence, Shasta default = 10\n",
    "\n",
    "# randomly select marker set without replacement, surprisingly complex to vectorize, works fast enough like this\n",
    "random.seed(2019)\n",
    "marker_set = set()\n",
    "while len(marker_set) < n_markers:\n",
    "    marker = [random.sample('ATCG', 1)[0]]\n",
    "    for i in range(marker_length-1):\n",
    "        nucs = {'A', 'T', 'C', 'G'}\n",
    "        nucs.remove(marker[-1])\n",
    "        marker.append(random.sample(nucs, 1)[0])\n",
    "    marker_set.add(''.join(marker))\n",
    "\n",
    "marker_list = list(marker_set)"
   ]
  },
  {
   "cell_type": "code",
   "execution_count": 18,
   "metadata": {},
   "outputs": [],
   "source": [
    "# TODO sample while considering reverse complement to ensure easy searches regardless of strand"
   ]
  },
  {
   "cell_type": "code",
   "execution_count": 19,
   "metadata": {},
   "outputs": [
    {
     "name": "stdout",
     "output_type": "stream",
     "text": [
      "5976\n",
      "1213\n"
     ]
    }
   ],
   "source": [
    "# extract markers from homopolymer compressed sequence\n",
    "# TODO temprorary code here, marker finding can definitely be improved a lot\n",
    "def markerize(HPC_seq):\n",
    "    marker_seq = []\n",
    "    for i in range(len(HPC_seq)):\n",
    "        subseq = HPC_seq[i:i+marker_length]\n",
    "        try:\n",
    "            idx = marker_list.index(subseq)\n",
    "            marker_seq.append(idx)\n",
    "        except:\n",
    "            pass\n",
    "        \n",
    "    return marker_seq\n",
    "\n",
    "foo = markerize(HPC_list[0])\n",
    "print(len(HPC_list[0]))\n",
    "print(len(foo))"
   ]
  },
  {
   "cell_type": "code",
   "execution_count": 20,
   "metadata": {},
   "outputs": [],
   "source": [
    "n_threads = 30\n",
    "\n",
    "# markerize all HPC seqs\n",
    "p = mp.Pool(n_threads)\n",
    "markerized_list = p.map(markerize, HPC_list)\n",
    "p.close()\n",
    "p.join()"
   ]
  },
  {
   "cell_type": "code",
   "execution_count": 21,
   "metadata": {},
   "outputs": [],
   "source": [
    "# convert list to tuple to allow hashing\n",
    "markerized_chrlist = [''.join([chr(s) for s in x]) for x in markerized_list]"
   ]
  },
  {
   "cell_type": "code",
   "execution_count": 22,
   "metadata": {},
   "outputs": [
    {
     "name": "stdout",
     "output_type": "stream",
     "text": [
      "CPU times: user 21.9 s, sys: 1.14 s, total: 23 s\n",
      "Wall time: 23 s\n"
     ]
    }
   ],
   "source": [
    "%%time\n",
    "# extract marKmers (short kmers with much larger alphabet) from marker sequences\n",
    "# marKmer uniqueness is roughly equivalent to a normal kmer of length = marKmer_length*marker_length\n",
    "# e.g. with marker length 10, marKmer 3 ~ kmer 30\n",
    "marKmer_length = 3\n",
    "hash_seed = 2019\n",
    "\n",
    "marKmer_hashtable = dict()\n",
    "for i, m in enumerate(markerized_chrlist): # i is stand-in for true taxid, TODO handle taxid with LCA\n",
    "    marKmer_set = set()\n",
    "    for j in range(len(m)):\n",
    "        subseq = m[j:j+marKmer_length] # this might be slow, TODO check if this slices or copies\n",
    "        marKmer_set.add(subseq) # adding to set is O(1)\n",
    "        \n",
    "    hashlist = [mmh3.hash(x, hash_seed) for x in list(marKmer_set)]\n",
    "    tmp_dict = dict(zip(hashlist, [i]*len(hashlist)))\n",
    "    marKmer_hashtable.update(tmp_dict)"
   ]
  },
  {
   "cell_type": "code",
   "execution_count": 23,
   "metadata": {},
   "outputs": [],
   "source": [
    "# %%time\n",
    "# # extract marKmers (short kmers with much larger alphabet) from marker sequences\n",
    "# # marKmer uniqueness is roughly equivalent to a normal kmer of length = marKmer_length*marker_length\n",
    "# # e.g. with marker length 10, marKmer 3 ~ kmer 30\n",
    "# marKmer_length = 3\n",
    "# hash_seed = 2019\n",
    "\n",
    "# marKmer_hashtable = dict()\n",
    "# for i, m in enumerate(markerized_chrlist): # i is stand-in for true taxid, TODO handle taxid with LCA\n",
    "#     marKmer_set = set()\n",
    "#     for i in range(len(m)):\n",
    "#         subseq = m[i:i+marKmer_length] # this might be slow, TODO check if this slices or copies\n",
    "#         marKmer_set.add(subseq) # adding to set is O(1)\n",
    "#     for m in marKmer_set:\n",
    "#         h = mmh3.hash(m, hash_seed)\n",
    "#         marKmer_hashtable.update({h:i}) # TODO check if adding to dict is O(1)"
   ]
  },
  {
   "cell_type": "code",
   "execution_count": 26,
   "metadata": {},
   "outputs": [],
   "source": [
    "# # save index\n",
    "# with open(hashtable_path, 'wb') as f:\n",
    "#     pickle.dump(marKmer_hashtable, f)"
   ]
  },
  {
   "cell_type": "code",
   "execution_count": null,
   "metadata": {},
   "outputs": [],
   "source": []
  },
  {
   "cell_type": "code",
   "execution_count": 33,
   "metadata": {},
   "outputs": [
    {
     "name": "stdout",
     "output_type": "stream",
     "text": [
      "0.007801361 gigabytes for index\n",
      "0.116762833 Gbp of sequence\n"
     ]
    }
   ],
   "source": [
    "# examine compression ratio\n",
    "singleseq = ''.join(seq_list)\n",
    "print(len(pickle.dumps(marKmer_hashtable))/1e9, 'gigabytes for index') # guaranteed correct or overestimate of object size\n",
    "# print(len(pickle.dumps(singleseq))/1e9, 'Gbp of sequence')\n",
    "print(len(singleseq)/1e9, 'Gbp of sequence')"
   ]
  },
  {
   "cell_type": "code",
   "execution_count": null,
   "metadata": {},
   "outputs": [],
   "source": []
  },
  {
   "cell_type": "code",
   "execution_count": 28,
   "metadata": {},
   "outputs": [],
   "source": [
    "def markerize_chr(HPC_seq):\n",
    "    marker_seq = []\n",
    "    for i in range(len(HPC_seq)):\n",
    "        subseq = HPC_seq[i:i+marker_length]\n",
    "        try:\n",
    "            idx = marker_list.index(subseq)\n",
    "            marker_seq.append(chr(idx))\n",
    "        except:\n",
    "            pass\n",
    "        \n",
    "    return marker_seq"
   ]
  },
  {
   "cell_type": "code",
   "execution_count": 29,
   "metadata": {},
   "outputs": [],
   "source": [
    "def marKmerize(marker_chrlist, marK):\n",
    "    marKmer_set = set()\n",
    "    for i in range(len(marker_chrlist)-marK):\n",
    "        marKmer = ''.join(marker_chrlist[i:i+marK])\n",
    "        marKmer_set.add(marKmer)\n",
    "    return marKmer_set"
   ]
  },
  {
   "cell_type": "code",
   "execution_count": 30,
   "metadata": {},
   "outputs": [
    {
     "name": "stdout",
     "output_type": "stream",
     "text": [
      "10000\n",
      "138\n",
      "133\n",
      "[33, 1, 1, 1, 1, 1, 1, 33, 1, 1, 33, 1, 33, 33, 1, 1, 33, 1, 1, 33, 1, 33, 1, 1, 1, 1, 1, 33, 1, 1, 1, 15, 1, 33, 1, 1, 1, 1, 1, 1, 1, 1, 1, 1, 1, 1, 33, 33, 1, 1, 1, 1, 1, 1, 1, 1, 1, 1, 1, 1, 1, 1, 1, 1, 1, 33, 1, 1, 1, 1, 1, 1, 1, 33, 1, 33, 1, 1, 1, 1, 33, 33, 1, 1, 33, 1, 1, 1, 33, 33, 1, 33, 1, 1, 33, 33, 1, 1, 1, 1, 33, 1, 33, 33, 1, 1, 1, 1, 1, 1, 33, 1, 33, 1, 1, 1, 1, 33, 1, 1, 1, 1, 1, 1, 33, 1, 33, 1, 33, 33, 1, 1, 33]\n"
     ]
    }
   ],
   "source": [
    "i = 1\n",
    "offset = 0\n",
    "readlength = 10000\n",
    "marK = marKmer_length # like k for kmers, ensure this is same as used in index\n",
    "\n",
    "\n",
    "sample_HPC = HPC_list[i][offset:offset+readlength]\n",
    "print(len(sample_HPC))\n",
    "\n",
    "sample_marker = markerize_chr(sample_HPC)\n",
    "print(len(sample_marker))\n",
    "\n",
    "sample_marKmer = marKmerize(sample_marker, marK)\n",
    "print(len(sample_marKmer))\n",
    "\n",
    "i_predict_list = []\n",
    "for m_str in sample_marKmer:\n",
    "    m_hash = mmh3.hash(m_str, hash_seed)\n",
    "    try:\n",
    "        i_predict = marKmer_hashtable[m_hash]\n",
    "        i_predict_list.append(i_predict)\n",
    "    except:\n",
    "        pass # avoid throwing error if hash isnt in table\n",
    "print(i_predict_list)"
   ]
  },
  {
   "cell_type": "code",
   "execution_count": null,
   "metadata": {},
   "outputs": [],
   "source": []
  },
  {
   "cell_type": "code",
   "execution_count": null,
   "metadata": {},
   "outputs": [],
   "source": []
  },
  {
   "cell_type": "code",
   "execution_count": null,
   "metadata": {},
   "outputs": [],
   "source": []
  },
  {
   "cell_type": "code",
   "execution_count": null,
   "metadata": {},
   "outputs": [],
   "source": [
    "#TODO examine accuracy in perfect reads\n",
    "#TODO examine accuracy as a function of sequencing error"
   ]
  },
  {
   "cell_type": "code",
   "execution_count": null,
   "metadata": {},
   "outputs": [],
   "source": []
  },
  {
   "cell_type": "code",
   "execution_count": null,
   "metadata": {},
   "outputs": [],
   "source": []
  },
  {
   "cell_type": "code",
   "execution_count": null,
   "metadata": {},
   "outputs": [],
   "source": []
  },
  {
   "cell_type": "code",
   "execution_count": null,
   "metadata": {},
   "outputs": [],
   "source": []
  },
  {
   "cell_type": "code",
   "execution_count": null,
   "metadata": {},
   "outputs": [],
   "source": []
  },
  {
   "cell_type": "code",
   "execution_count": 342,
   "metadata": {},
   "outputs": [
    {
     "data": {
      "image/png": "[encoded data removed]",
      "text/plain": [
       "<Figure size 432x288 with 1 Axes>"
      ]
     },
     "metadata": {
      "needs_background": "light"
     },
     "output_type": "display_data"
    },
    {
     "name": "stdout",
     "output_type": "stream",
     "text": [
      "38\n"
     ]
    }
   ],
   "source": [
    "lenlist = [len(x) for x in markerized_list]\n",
    "plt.hist(lenlist)\n",
    "plt.show()\n",
    "print(np.sum(np.asarray(lenlist)>10000))"
   ]
  }
 ],
 "metadata": {
  "kernelspec": {
   "display_name": "Python 3",
   "language": "python",
   "name": "python3"
  },
  "language_info": {
   "codemirror_mode": {
    "name": "ipython",
    "version": 3
   },
   "file_extension": ".py",
   "mimetype": "text/x-python",
   "name": "python",
   "nbconvert_exporter": "python",
   "pygments_lexer": "ipython3",
   "version": "3.7.3"
  }
 },
 "nbformat": 4,
 "nbformat_minor": 2
}
